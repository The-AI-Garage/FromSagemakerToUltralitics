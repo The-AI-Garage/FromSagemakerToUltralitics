{
 "cells": [
  {
   "cell_type": "markdown",
   "id": "dcd40740-3c32-44bb-a23f-01c17452919f",
   "metadata": {},
   "source": [
    "# Dataset to YOLO\n",
    "\n",
    "Esta notebook buscará de pasar el dataset generado con ground of truth de sagemaker a un formato que pueda consumir un modelo de Ultralitics. "
   ]
  },
  {
   "cell_type": "code",
   "execution_count": 19,
   "id": "a4490a75-1ad2-4638-9155-da2fb4052797",
   "metadata": {
    "tags": []
   },
   "outputs": [],
   "source": [
    "import boto3\n",
    "import os\n",
    "from tqdm.auto import tqdm\n",
    "\n",
    "import time\n",
    "import json\n",
    "import cv2 as cv\n",
    "import numpy as np\n",
    "import matplotlib.pyplot as plt"
   ]
  },
  {
   "cell_type": "code",
   "execution_count": 15,
   "id": "6986e4e1-5605-494a-b888-c2757cae4ae4",
   "metadata": {
    "tags": []
   },
   "outputs": [],
   "source": [
    "# getting results from aws ground of truth\n",
    "\n",
    "bucket = 'video-tracking-pallets'\n",
    "obj_key = 'BEMA.mp4/'\n",
    "local_dir = '/root/video_processing/Pallets/Data/BEMA'"
   ]
  },
  {
   "cell_type": "code",
   "execution_count": 16,
   "id": "2d0a9b7c-ddcd-47d6-9c4a-8522e22db6cb",
   "metadata": {
    "tags": []
   },
   "outputs": [],
   "source": [
    "# Create the local directory if it doesn't exist\n",
    "if not os.path.exists(local_dir):\n",
    "    os.makedirs(local_dir )"
   ]
  },
  {
   "cell_type": "code",
   "execution_count": 18,
   "id": "dfef90fd-f9bc-4438-a9f1-e60dac085c05",
   "metadata": {
    "tags": []
   },
   "outputs": [
    {
     "name": "stdout",
     "output_type": "stream",
     "text": [
      "..................................................................................................................................."
     ]
    }
   ],
   "source": [
    "# Download the object\n",
    "s3 = boto3.client('s3')\n",
    "# list all objects inside dir\n",
    "folder_path= ''\n",
    "objects = s3.list_objects(Bucket=bucket, Prefix=folder_path)\n",
    "#print(objects)\n",
    "for obj in objects.get('Contents', []):\n",
    "    #print(obj)\n",
    "    files = obj['Key']\n",
    "    files_processed = obj['Key'].split('/')\n",
    "    directory = files_processed[0]\n",
    "    file = files_processed[-1]\n",
    "    s3.download_file(bucket, files, local_dir + '/' + file)\n",
    "    print('.', end='', flush=True)\n",
    "    time.sleep(1)"
   ]
  },
  {
   "cell_type": "code",
   "execution_count": 19,
   "id": "ba0c377a-7685-4798-878e-611a83fb0834",
   "metadata": {
    "tags": []
   },
   "outputs": [],
   "source": [
    "# create dataset directory\n",
    "destination_dir = '/root/video_processing/Pallets/Data/dataset'\n",
    "if not os.path.exists(destination_dir):\n",
    "    os.makedirs(destination_dir)\n",
    "# create image directory\n",
    "img_dir = '/root/video_processing/Pallets/Data/dataset/images'\n",
    "if not os.path.exists(img_dir):\n",
    "    os.makedirs(img_dir)\n",
    "# create label directory\n",
    "label_dir = '/root/video_processing/Pallets/Data/dataset/labels'\n",
    "if not os.path.exists(label_dir):\n",
    "    os.makedirs(label_dir)"
   ]
  },
  {
   "cell_type": "code",
   "execution_count": 20,
   "id": "843dee26-c0e0-4e03-b1bc-bf7bd9cf9f41",
   "metadata": {
    "tags": []
   },
   "outputs": [
    {
     "data": {
      "application/vnd.jupyter.widget-view+json": {
       "model_id": "244e655552584d218cf1e1163e10e62a",
       "version_major": 2,
       "version_minor": 0
      },
      "text/plain": [
       "  0%|          | 0/130 [00:00<?, ?it/s]"
      ]
     },
     "metadata": {},
     "output_type": "display_data"
    }
   ],
   "source": [
    "#save images in a folder \n",
    "files_array = os.listdir(local_dir)\n",
    "for i in tqdm(range(len(files_array))):\n",
    "    if files_array[i].endswith('.jpeg'):\n",
    "        os.rename(local_dir + \"/\" + files_array[i], img_dir+ \"/\" + files_array[i])"
   ]
  },
  {
   "cell_type": "code",
   "execution_count": 21,
   "id": "1802ba9c-9fa3-46df-abe4-0ff39a70127d",
   "metadata": {
    "tags": []
   },
   "outputs": [],
   "source": [
    "# extract labels for each image\n",
    "annotations = local_dir + '/'+ 'SeqLabel.json'\n",
    "with open(annotations, 'r') as f:\n",
    "    read_labels = json.load(f)"
   ]
  },
  {
   "cell_type": "code",
   "execution_count": 22,
   "id": "5feea406-fd7a-4862-bf0c-3371a30e32c7",
   "metadata": {
    "tags": []
   },
   "outputs": [
    {
     "name": "stdout",
     "output_type": "stream",
     "text": [
      "{'annotations': [{'height': 932, 'width': 490, 'top': 88, 'left': 835, 'class-id': '0', 'label-category-attributes': {}}], 'frame-no': '0', 'frame': 'frame_0000.jpeg', 'frame-attributes': {}}\n"
     ]
    }
   ],
   "source": [
    "print(read_labels['detection-annotations'][0])"
   ]
  },
  {
   "cell_type": "code",
   "execution_count": 23,
   "id": "d12e7a40-daa2-49e3-a2c4-b2d31602d104",
   "metadata": {
    "tags": []
   },
   "outputs": [],
   "source": [
    "# iterate for each frame\n",
    "num_frames_annotated = len(read_labels['detection-annotations'])\n",
    "for i in range(num_frames_annotated):\n",
    "    # iterate for each bbox found\n",
    "    num_bbox_found = len(read_labels['detection-annotations'][i]['annotations'])\n",
    "    for j in range(num_bbox_found):\n",
    "        # extract class-id\n",
    "        class_id = read_labels['detection-annotations'][i]['annotations'][j]['class-id']\n",
    "        # extract frame name\n",
    "        frame_name = read_labels['detection-annotations'][i]['frame']\n",
    "        # extract bounding box coordinates\n",
    "        height_bbox = read_labels['detection-annotations'][i]['annotations'][j]['height']\n",
    "        width_bbox = read_labels['detection-annotations'][i]['annotations'][j]['width']\n",
    "        top_bbox = read_labels['detection-annotations'][i]['annotations'][j]['top']\n",
    "        left_bbox = read_labels['detection-annotations'][i]['annotations'][j]['left']\n",
    "        # find image dimention\n",
    "        img = cv.imread(img_dir+ '/' + frame_name)\n",
    "        height_img = img.shape[0]\n",
    "        width_img = img.shape[1]\n",
    "        # normalize coordinates as YOLO\n",
    "        center_x = (left_bbox + width_bbox / 2) / width_img\n",
    "        center_y = (top_bbox + height_bbox / 2) / height_img\n",
    "        width = width_bbox / width_img\n",
    "        height = height_bbox / height_img\n",
    "        # write in txt and save in label dir\n",
    "        frame_name_txt = frame_name.replace('.jpeg', '.txt')\n",
    "        info_extracted = [class_id, center_x, center_y, width, height]\n",
    "        with open(label_dir + '/' + frame_name_txt, 'a') as file_txt:\n",
    "            file_txt.write(str(class_id) + ' ' + str(center_x) + ' ' + str(center_y) \n",
    "                           + ' ' + str(width) + ' ' + str(height) + '\\n')"
   ]
  },
  {
   "cell_type": "code",
   "execution_count": 24,
   "id": "2795e7c5-2bec-48f5-8759-5f37f0354000",
   "metadata": {
    "tags": []
   },
   "outputs": [],
   "source": [
    "# create directories for dataset in train, test, valid\n",
    "train_dir = '/root/video_processing/Pallets/Data/dataset/train'\n",
    "if not os.path.exists(train_dir):\n",
    "    os.makedirs(train_dir)\n",
    "test_dir = '/root/video_processing/Pallets/Data/dataset/test'\n",
    "if not os.path.exists(test_dir):\n",
    "    os.makedirs(test_dir)\n",
    "valid_dir = '/root/video_processing/Pallets/Data/dataset/valid'\n",
    "if not os.path.exists(valid_dir):\n",
    "    os.makedirs(valid_dir)\n",
    "\n",
    "# create sub-directories for dataset in train, test, valid\n",
    "sub_dir = ['/root/video_processing/Pallets/Data/dataset/train/images',\n",
    "           '/root/video_processing/Pallets/Data/dataset/train/labels',\n",
    "           '/root/video_processing/Pallets/Data/dataset/test/images',\n",
    "           '/root/video_processing/Pallets/Data/dataset/test/labels',\n",
    "           '/root/video_processing/Pallets/Data/dataset/valid/images',\n",
    "           '/root/video_processing/Pallets/Data/dataset/valid/labels']\n",
    "\n",
    "for sub in sub_dir:\n",
    "    if not os.path.exists(sub):\n",
    "        os.makedirs(sub)"
   ]
  },
  {
   "cell_type": "code",
   "execution_count": 25,
   "id": "50da0fa3-9609-4bcd-8e71-130be6180485",
   "metadata": {
    "tags": []
   },
   "outputs": [
    {
     "name": "stdout",
     "output_type": "stream",
     "text": [
      "train images: 41\n",
      "test images: 6\n",
      "valid images: 12\n",
      "trianing idx [26 35 43 28 11  2 34 46 40 22  4 10 30 41 33 42 48  7 14 32 49 29 37 56\n",
      " 18 55 27 15  5 31 16 50 20 51  8 13 25 17 58 57 52]\n",
      "validation idx [38  1 12 45 24  6 23 36 21 19  9 39]\n",
      "test rows[54  3  0 53 47 44]\n"
     ]
    }
   ],
   "source": [
    "train_rate = 0.7\n",
    "test_rate = 0.1\n",
    "valid_rate = 0.2\n",
    "\n",
    "# number of images\n",
    "num_imgs = len(os.listdir(img_dir))\n",
    "# number of observations for sets\n",
    "train_size = int(num_imgs * train_rate)\n",
    "print(\"train images: {}\".format(train_size))\n",
    "test_size = num_imgs - int(num_imgs - test_rate * num_imgs)\n",
    "print(\"test images: {}\".format(test_size))\n",
    "valid_size = num_imgs - int(num_imgs - valid_rate * num_imgs)\n",
    "print(\"valid images: {}\".format(valid_size))\n",
    "# making array of indexes\n",
    "np.random.seed(0)\n",
    "permute_idx = np.random.permutation(num_imgs)\n",
    "\n",
    "#get train data using slicing\n",
    "train_idx_obs = permute_idx[0:train_size]\n",
    "print(f\"trianing idx {train_idx_obs}\")\n",
    "#get validation data using slicing\n",
    "valid_idx_obs = permute_idx[train_size:int(num_imgs - test_rate * num_imgs)]\n",
    "print(f\"validation idx {valid_idx_obs}\")\n",
    "#get test data\n",
    "test_idx_obs = permute_idx[int(num_imgs - test_rate * num_imgs):num_imgs]\n",
    "print(f\"test rows{test_idx_obs}\")"
   ]
  },
  {
   "cell_type": "code",
   "execution_count": 26,
   "id": "cad9c88e-fbb8-4451-ae4d-5e6dcad86ff7",
   "metadata": {},
   "outputs": [],
   "source": [
    "# Get image array\n",
    "imgs = os.listdir(img_dir)\n",
    "# path for images to train\n",
    "img_train_dir = '/root/video_processing/Pallets/Data/dataset/train/images'\n",
    "# move images for training to folder\n",
    "for idx in train_idx_obs:\n",
    "    os.rename(img_dir + \"/\" + imgs[idx], img_train_dir+ \"/\" + imgs[idx])\n",
    "\n",
    "# path for images to test\n",
    "img_test_dir = '/root/video_processing/Pallets/Data/dataset/test/images'\n",
    "# move images for testing to folder\n",
    "for idx in test_idx_obs:\n",
    "    os.rename(img_dir + \"/\" + imgs[idx], img_test_dir+ \"/\" + imgs[idx])\n",
    "\n",
    "# path for images to test\n",
    "img_valid_dir = '/root/video_processing/Pallets/Data/dataset/valid/images'\n",
    "# move images for validation to folder\n",
    "for idx in valid_idx_obs:\n",
    "    os.rename(img_dir + \"/\" + imgs[idx], img_valid_dir+ \"/\" + imgs[idx])"
   ]
  },
  {
   "cell_type": "code",
   "execution_count": 37,
   "id": "d18c7465-c2ab-4825-83dd-585abd8aa5e9",
   "metadata": {
    "tags": []
   },
   "outputs": [],
   "source": [
    "label_train_dir = '/root/video_processing/Pallets/Data/dataset/train/labels'\n",
    "label_test_dir = '/root/video_processing/Pallets/Data/dataset/test/labels'\n",
    "label_valid_dir ='/root/video_processing/Pallets/Data/dataset/valid/labels'\n",
    "# if the annotation name is = to image then save it in the labels folder\n",
    "for label in os.listdir(label_dir):\n",
    "    name_label = label.replace('.txt','.jpeg')\n",
    "    if name_label in os.listdir(img_train_dir):\n",
    "        # if this condition is true, save the label in the train label folder.\n",
    "        name_label_helper = name_label.replace('.jpeg','.txt')\n",
    "        os.rename(label_dir + \"/\" + name_label_helper, label_train_dir+ \"/\" + name_label_helper)\n",
    "    if name_label in os.listdir(img_test_dir):\n",
    "        # if this condition is true, save the label in the test label folder.\n",
    "        name_label_helper = name_label.replace('.jpeg','.txt')\n",
    "        os.rename(label_dir + \"/\" + name_label_helper, label_test_dir+ \"/\" + name_label_helper)\n",
    "    if name_label in os.listdir(img_valid_dir):\n",
    "        # if this condition is true, save the label in the valid label folder.\n",
    "        name_label_helper = name_label.replace('.jpeg','.txt')\n",
    "        os.rename(label_dir + \"/\" + name_label_helper, label_valid_dir+ \"/\" + name_label_helper)"
   ]
  },
  {
   "cell_type": "code",
   "execution_count": 38,
   "id": "dd3fb40f-396f-4f4a-acfb-14d22663bcb7",
   "metadata": {
    "tags": []
   },
   "outputs": [],
   "source": [
    "# delete old folder for images and labels\n",
    "os.rmdir(label_dir)\n",
    "os.rmdir(img_dir)"
   ]
  },
  {
   "cell_type": "code",
   "execution_count": 57,
   "id": "4c443e65-73ee-4d45-b439-797ae0192c44",
   "metadata": {
    "tags": []
   },
   "outputs": [
    {
     "name": "stdout",
     "output_type": "stream",
     "text": [
      "{'0': 'pallet completo'}\n"
     ]
    }
   ],
   "source": [
    "# Read output.manifest to take the map between class_id and label name\n",
    "import io\n",
    "\n",
    "with open('/root/video_processing/Pallets/Data/BEMA/output.manifest', 'r') as manifest:\n",
    "    # Read TextIOWrapper\n",
    "    wrapper = io.TextIOWrapper(manifest.buffer, encoding='utf-8')\n",
    "    \n",
    "    # Read content\n",
    "    content = wrapper.read()\n",
    "    \n",
    "# pass to json\n",
    "content_to_json = json.loads(content)\n",
    "# find class-map\n",
    "class_map = content_to_json['pallete-test-ref-metadata']['class-map']\n",
    "print(class_map)"
   ]
  },
  {
   "cell_type": "code",
   "execution_count": 72,
   "id": "236a8088-d8b3-4b7a-b10c-cce207d10a3d",
   "metadata": {
    "tags": []
   },
   "outputs": [],
   "source": [
    "# write data.yaml\n",
    "path_data_file = '/root/video_processing/Pallets/Data/dataset/data.yaml'\n",
    "with open(path_data_file, \"w\") as data:\n",
    "    data.write(\"names:\\n\")\n",
    "    data.write(f\"{class_map}\\n\")"
   ]
  },
  {
   "cell_type": "markdown",
   "id": "eafc183d-b0e0-4836-a949-703585c8012e",
   "metadata": {},
   "source": [
    "El resto escribirlo a mano en el archivo creado data.yaml."
   ]
  },
  {
   "cell_type": "markdown",
   "id": "ef86cc1b-1b22-4aea-9584-96e10da7bd05",
   "metadata": {},
   "source": [
    "***Ejem of data.yaml***\n",
    "\n",
    "\n",
    "**train**: images/train  # train images (relative to 'path') 4 images\n",
    "\n",
    "\n",
    "**val**: images/val  # val images (relative to 'path') 4 images\n",
    "\n",
    "\n",
    "**test**:  # test images (optional)\n",
    "\n",
    "Classes (80 COCO classes)\n",
    "\n",
    "\n",
    "**names**:\n",
    "\n",
    "\n",
    "  - person\n",
    "  \n",
    "  \n",
    "  - bicycle\n",
    "  \n",
    "  \n",
    "  - car\n",
    "  ....\n",
    "  77: teddy bear\n",
    "  78: hair drier\n",
    "  79: toothbrush\n"
   ]
  },
  {
   "attachments": {
    "409b6e09-0773-4873-964f-af54aeb85b3f.png": {
     "image/png": "[encoded data removed]"
    }
   },
   "cell_type": "markdown",
   "id": "f7e1bb69-8b55-4684-a88d-0b3eadaec69d",
   "metadata": {},
   "source": [
    "![image.png](attachment:409b6e09-0773-4873-964f-af54aeb85b3f.png)"
   ]
  },
  {
   "cell_type": "code",
   "execution_count": null,
   "id": "02e33855-7899-461b-bf76-0099345f3742",
   "metadata": {},
   "outputs": [],
   "source": []
  }
 ],
 "metadata": {
  "availableInstances": [
   {
    "_defaultOrder": 0,
    "_isFastLaunch": true,
    "category": "General purpose",
    "gpuNum": 0,
    "hideHardwareSpecs": false,
    "memoryGiB": 4,
    "name": "ml.t3.medium",
    "vcpuNum": 2
   },
   {
    "_defaultOrder": 1,
    "_isFastLaunch": false,
    "category": "General purpose",
    "gpuNum": 0,
    "hideHardwareSpecs": false,
    "memoryGiB": 8,
    "name": "ml.t3.large",
    "vcpuNum": 2
   },
   {
    "_defaultOrder": 2,
    "_isFastLaunch": false,
    "category": "General purpose",
    "gpuNum": 0,
    "hideHardwareSpecs": false,
    "memoryGiB": 16,
    "name": "ml.t3.xlarge",
    "vcpuNum": 4
   },
   {
    "_defaultOrder": 3,
    "_isFastLaunch": false,
    "category": "General purpose",
    "gpuNum": 0,
    "hideHardwareSpecs": false,
    "memoryGiB": 32,
    "name": "ml.t3.2xlarge",
    "vcpuNum": 8
   },
   {
    "_defaultOrder": 4,
    "_isFastLaunch": true,
    "category": "General purpose",
    "gpuNum": 0,
    "hideHardwareSpecs": false,
    "memoryGiB": 8,
    "name": "ml.m5.large",
    "vcpuNum": 2
   },
   {
    "_defaultOrder": 5,
    "_isFastLaunch": false,
    "category": "General purpose",
    "gpuNum": 0,
    "hideHardwareSpecs": false,
    "memoryGiB": 16,
    "name": "ml.m5.xlarge",
    "vcpuNum": 4
   },
   {
    "_defaultOrder": 6,
    "_isFastLaunch": false,
    "category": "General purpose",
    "gpuNum": 0,
    "hideHardwareSpecs": false,
    "memoryGiB": 32,
    "name": "ml.m5.2xlarge",
    "vcpuNum": 8
   },
   {
    "_defaultOrder": 7,
    "_isFastLaunch": false,
    "category": "General purpose",
    "gpuNum": 0,
    "hideHardwareSpecs": false,
    "memoryGiB": 64,
    "name": "ml.m5.4xlarge",
    "vcpuNum": 16
   },
   {
    "_defaultOrder": 8,
    "_isFastLaunch": false,
    "category": "General purpose",
    "gpuNum": 0,
    "hideHardwareSpecs": false,
    "memoryGiB": 128,
    "name": "ml.m5.8xlarge",
    "vcpuNum": 32
   },
   {
    "_defaultOrder": 9,
    "_isFastLaunch": false,
    "category": "General purpose",
    "gpuNum": 0,
    "hideHardwareSpecs": false,
    "memoryGiB": 192,
    "name": "ml.m5.12xlarge",
    "vcpuNum": 48
   },
   {
    "_defaultOrder": 10,
    "_isFastLaunch": false,
    "category": "General purpose",
    "gpuNum": 0,
    "hideHardwareSpecs": false,
    "memoryGiB": 256,
    "name": "ml.m5.16xlarge",
    "vcpuNum": 64
   },
   {
    "_defaultOrder": 11,
    "_isFastLaunch": false,
    "category": "General purpose",
    "gpuNum": 0,
    "hideHardwareSpecs": false,
    "memoryGiB": 384,
    "name": "ml.m5.24xlarge",
    "vcpuNum": 96
   },
   {
    "_defaultOrder": 12,
    "_isFastLaunch": false,
    "category": "General purpose",
    "gpuNum": 0,
    "hideHardwareSpecs": false,
    "memoryGiB": 8,
    "name": "ml.m5d.large",
    "vcpuNum": 2
   },
   {
    "_defaultOrder": 13,
    "_isFastLaunch": false,
    "category": "General purpose",
    "gpuNum": 0,
    "hideHardwareSpecs": false,
    "memoryGiB": 16,
    "name": "ml.m5d.xlarge",
    "vcpuNum": 4
   },
   {
    "_defaultOrder": 14,
    "_isFastLaunch": false,
    "category": "General purpose",
    "gpuNum": 0,
    "hideHardwareSpecs": false,
    "memoryGiB": 32,
    "name": "ml.m5d.2xlarge",
    "vcpuNum": 8
   },
   {
    "_defaultOrder": 15,
    "_isFastLaunch": false,
    "category": "General purpose",
    "gpuNum": 0,
    "hideHardwareSpecs": false,
    "memoryGiB": 64,
    "name": "ml.m5d.4xlarge",
    "vcpuNum": 16
   },
   {
    "_defaultOrder": 16,
    "_isFastLaunch": false,
    "category": "General purpose",
    "gpuNum": 0,
    "hideHardwareSpecs": false,
    "memoryGiB": 128,
    "name": "ml.m5d.8xlarge",
    "vcpuNum": 32
   },
   {
    "_defaultOrder": 17,
    "_isFastLaunch": false,
    "category": "General purpose",
    "gpuNum": 0,
    "hideHardwareSpecs": false,
    "memoryGiB": 192,
    "name": "ml.m5d.12xlarge",
    "vcpuNum": 48
   },
   {
    "_defaultOrder": 18,
    "_isFastLaunch": false,
    "category": "General purpose",
    "gpuNum": 0,
    "hideHardwareSpecs": false,
    "memoryGiB": 256,
    "name": "ml.m5d.16xlarge",
    "vcpuNum": 64
   },
   {
    "_defaultOrder": 19,
    "_isFastLaunch": false,
    "category": "General purpose",
    "gpuNum": 0,
    "hideHardwareSpecs": false,
    "memoryGiB": 384,
    "name": "ml.m5d.24xlarge",
    "vcpuNum": 96
   },
   {
    "_defaultOrder": 20,
    "_isFastLaunch": false,
    "category": "General purpose",
    "gpuNum": 0,
    "hideHardwareSpecs": true,
    "memoryGiB": 0,
    "name": "ml.geospatial.interactive",
    "supportedImageNames": [
     "sagemaker-geospatial-v1-0"
    ],
    "vcpuNum": 0
   },
   {
    "_defaultOrder": 21,
    "_isFastLaunch": true,
    "category": "Compute optimized",
    "gpuNum": 0,
    "hideHardwareSpecs": false,
    "memoryGiB": 4,
    "name": "ml.c5.large",
    "vcpuNum": 2
   },
   {
    "_defaultOrder": 22,
    "_isFastLaunch": false,
    "category": "Compute optimized",
    "gpuNum": 0,
    "hideHardwareSpecs": false,
    "memoryGiB": 8,
    "name": "ml.c5.xlarge",
    "vcpuNum": 4
   },
   {
    "_defaultOrder": 23,
    "_isFastLaunch": false,
    "category": "Compute optimized",
    "gpuNum": 0,
    "hideHardwareSpecs": false,
    "memoryGiB": 16,
    "name": "ml.c5.2xlarge",
    "vcpuNum": 8
   },
   {
    "_defaultOrder": 24,
    "_isFastLaunch": false,
    "category": "Compute optimized",
    "gpuNum": 0,
    "hideHardwareSpecs": false,
    "memoryGiB": 32,
    "name": "ml.c5.4xlarge",
    "vcpuNum": 16
   },
   {
    "_defaultOrder": 25,
    "_isFastLaunch": false,
    "category": "Compute optimized",
    "gpuNum": 0,
    "hideHardwareSpecs": false,
    "memoryGiB": 72,
    "name": "ml.c5.9xlarge",
    "vcpuNum": 36
   },
   {
    "_defaultOrder": 26,
    "_isFastLaunch": false,
    "category": "Compute optimized",
    "gpuNum": 0,
    "hideHardwareSpecs": false,
    "memoryGiB": 96,
    "name": "ml.c5.12xlarge",
    "vcpuNum": 48
   },
   {
    "_defaultOrder": 27,
    "_isFastLaunch": false,
    "category": "Compute optimized",
    "gpuNum": 0,
    "hideHardwareSpecs": false,
    "memoryGiB": 144,
    "name": "ml.c5.18xlarge",
    "vcpuNum": 72
   },
   {
    "_defaultOrder": 28,
    "_isFastLaunch": false,
    "category": "Compute optimized",
    "gpuNum": 0,
    "hideHardwareSpecs": false,
    "memoryGiB": 192,
    "name": "ml.c5.24xlarge",
    "vcpuNum": 96
   },
   {
    "_defaultOrder": 29,
    "_isFastLaunch": true,
    "category": "Accelerated computing",
    "gpuNum": 1,
    "hideHardwareSpecs": false,
    "memoryGiB": 16,
    "name": "ml.g4dn.xlarge",
    "vcpuNum": 4
   },
   {
    "_defaultOrder": 30,
    "_isFastLaunch": false,
    "category": "Accelerated computing",
    "gpuNum": 1,
    "hideHardwareSpecs": false,
    "memoryGiB": 32,
    "name": "ml.g4dn.2xlarge",
    "vcpuNum": 8
   },
   {
    "_defaultOrder": 31,
    "_isFastLaunch": false,
    "category": "Accelerated computing",
    "gpuNum": 1,
    "hideHardwareSpecs": false,
    "memoryGiB": 64,
    "name": "ml.g4dn.4xlarge",
    "vcpuNum": 16
   },
   {
    "_defaultOrder": 32,
    "_isFastLaunch": false,
    "category": "Accelerated computing",
    "gpuNum": 1,
    "hideHardwareSpecs": false,
    "memoryGiB": 128,
    "name": "ml.g4dn.8xlarge",
    "vcpuNum": 32
   },
   {
    "_defaultOrder": 33,
    "_isFastLaunch": false,
    "category": "Accelerated computing",
    "gpuNum": 4,
    "hideHardwareSpecs": false,
    "memoryGiB": 192,
    "name": "ml.g4dn.12xlarge",
    "vcpuNum": 48
   },
   {
    "_defaultOrder": 34,
    "_isFastLaunch": false,
    "category": "Accelerated computing",
    "gpuNum": 1,
    "hideHardwareSpecs": false,
    "memoryGiB": 256,
    "name": "ml.g4dn.16xlarge",
    "vcpuNum": 64
   },
   {
    "_defaultOrder": 35,
    "_isFastLaunch": false,
    "category": "Accelerated computing",
    "gpuNum": 1,
    "hideHardwareSpecs": false,
    "memoryGiB": 61,
    "name": "ml.p3.2xlarge",
    "vcpuNum": 8
   },
   {
    "_defaultOrder": 36,
    "_isFastLaunch": false,
    "category": "Accelerated computing",
    "gpuNum": 4,
    "hideHardwareSpecs": false,
    "memoryGiB": 244,
    "name": "ml.p3.8xlarge",
    "vcpuNum": 32
   },
   {
    "_defaultOrder": 37,
    "_isFastLaunch": false,
    "category": "Accelerated computing",
    "gpuNum": 8,
    "hideHardwareSpecs": false,
    "memoryGiB": 488,
    "name": "ml.p3.16xlarge",
    "vcpuNum": 64
   },
   {
    "_defaultOrder": 38,
    "_isFastLaunch": false,
    "category": "Accelerated computing",
    "gpuNum": 8,
    "hideHardwareSpecs": false,
    "memoryGiB": 768,
    "name": "ml.p3dn.24xlarge",
    "vcpuNum": 96
   },
   {
    "_defaultOrder": 39,
    "_isFastLaunch": false,
    "category": "Memory Optimized",
    "gpuNum": 0,
    "hideHardwareSpecs": false,
    "memoryGiB": 16,
    "name": "ml.r5.large",
    "vcpuNum": 2
   },
   {
    "_defaultOrder": 40,
    "_isFastLaunch": false,
    "category": "Memory Optimized",
    "gpuNum": 0,
    "hideHardwareSpecs": false,
    "memoryGiB": 32,
    "name": "ml.r5.xlarge",
    "vcpuNum": 4
   },
   {
    "_defaultOrder": 41,
    "_isFastLaunch": false,
    "category": "Memory Optimized",
    "gpuNum": 0,
    "hideHardwareSpecs": false,
    "memoryGiB": 64,
    "name": "ml.r5.2xlarge",
    "vcpuNum": 8
   },
   {
    "_defaultOrder": 42,
    "_isFastLaunch": false,
    "category": "Memory Optimized",
    "gpuNum": 0,
    "hideHardwareSpecs": false,
    "memoryGiB": 128,
    "name": "ml.r5.4xlarge",
    "vcpuNum": 16
   },
   {
    "_defaultOrder": 43,
    "_isFastLaunch": false,
    "category": "Memory Optimized",
    "gpuNum": 0,
    "hideHardwareSpecs": false,
    "memoryGiB": 256,
    "name": "ml.r5.8xlarge",
    "vcpuNum": 32
   },
   {
    "_defaultOrder": 44,
    "_isFastLaunch": false,
    "category": "Memory Optimized",
    "gpuNum": 0,
    "hideHardwareSpecs": false,
    "memoryGiB": 384,
    "name": "ml.r5.12xlarge",
    "vcpuNum": 48
   },
   {
    "_defaultOrder": 45,
    "_isFastLaunch": false,
    "category": "Memory Optimized",
    "gpuNum": 0,
    "hideHardwareSpecs": false,
    "memoryGiB": 512,
    "name": "ml.r5.16xlarge",
    "vcpuNum": 64
   },
   {
    "_defaultOrder": 46,
    "_isFastLaunch": false,
    "category": "Memory Optimized",
    "gpuNum": 0,
    "hideHardwareSpecs": false,
    "memoryGiB": 768,
    "name": "ml.r5.24xlarge",
    "vcpuNum": 96
   },
   {
    "_defaultOrder": 47,
    "_isFastLaunch": false,
    "category": "Accelerated computing",
    "gpuNum": 1,
    "hideHardwareSpecs": false,
    "memoryGiB": 16,
    "name": "ml.g5.xlarge",
    "vcpuNum": 4
   },
   {
    "_defaultOrder": 48,
    "_isFastLaunch": false,
    "category": "Accelerated computing",
    "gpuNum": 1,
    "hideHardwareSpecs": false,
    "memoryGiB": 32,
    "name": "ml.g5.2xlarge",
    "vcpuNum": 8
   },
   {
    "_defaultOrder": 49,
    "_isFastLaunch": false,
    "category": "Accelerated computing",
    "gpuNum": 1,
    "hideHardwareSpecs": false,
    "memoryGiB": 64,
    "name": "ml.g5.4xlarge",
    "vcpuNum": 16
   },
   {
    "_defaultOrder": 50,
    "_isFastLaunch": false,
    "category": "Accelerated computing",
    "gpuNum": 1,
    "hideHardwareSpecs": false,
    "memoryGiB": 128,
    "name": "ml.g5.8xlarge",
    "vcpuNum": 32
   },
   {
    "_defaultOrder": 51,
    "_isFastLaunch": false,
    "category": "Accelerated computing",
    "gpuNum": 1,
    "hideHardwareSpecs": false,
    "memoryGiB": 256,
    "name": "ml.g5.16xlarge",
    "vcpuNum": 64
   },
   {
    "_defaultOrder": 52,
    "_isFastLaunch": false,
    "category": "Accelerated computing",
    "gpuNum": 4,
    "hideHardwareSpecs": false,
    "memoryGiB": 192,
    "name": "ml.g5.12xlarge",
    "vcpuNum": 48
   },
   {
    "_defaultOrder": 53,
    "_isFastLaunch": false,
    "category": "Accelerated computing",
    "gpuNum": 4,
    "hideHardwareSpecs": false,
    "memoryGiB": 384,
    "name": "ml.g5.24xlarge",
    "vcpuNum": 96
   },
   {
    "_defaultOrder": 54,
    "_isFastLaunch": false,
    "category": "Accelerated computing",
    "gpuNum": 8,
    "hideHardwareSpecs": false,
    "memoryGiB": 768,
    "name": "ml.g5.48xlarge",
    "vcpuNum": 192
   },
   {
    "_defaultOrder": 55,
    "_isFastLaunch": false,
    "category": "Accelerated computing",
    "gpuNum": 8,
    "hideHardwareSpecs": false,
    "memoryGiB": 1152,
    "name": "ml.p4d.24xlarge",
    "vcpuNum": 96
   },
   {
    "_defaultOrder": 56,
    "_isFastLaunch": false,
    "category": "Accelerated computing",
    "gpuNum": 8,
    "hideHardwareSpecs": false,
    "memoryGiB": 1152,
    "name": "ml.p4de.24xlarge",
    "vcpuNum": 96
   },
   {
    "_defaultOrder": 57,
    "_isFastLaunch": false,
    "category": "Accelerated computing",
    "gpuNum": 0,
    "hideHardwareSpecs": false,
    "memoryGiB": 32,
    "name": "ml.trn1.2xlarge",
    "vcpuNum": 8
   },
   {
    "_defaultOrder": 58,
    "_isFastLaunch": false,
    "category": "Accelerated computing",
    "gpuNum": 0,
    "hideHardwareSpecs": false,
    "memoryGiB": 512,
    "name": "ml.trn1.32xlarge",
    "vcpuNum": 128
   },
   {
    "_defaultOrder": 59,
    "_isFastLaunch": false,
    "category": "Accelerated computing",
    "gpuNum": 0,
    "hideHardwareSpecs": false,
    "memoryGiB": 512,
    "name": "ml.trn1n.32xlarge",
    "vcpuNum": 128
   }
  ],
  "instance_type": "ml.t3.medium",
  "kernelspec": {
   "display_name": "Python 3 (Data Science 3.0)",
   "language": "python",
   "name": "python3__SAGEMAKER_INTERNAL__arn:aws:sagemaker:us-east-1:081325390199:image/sagemaker-data-science-310-v1"
  },
  "language_info": {
   "codemirror_mode": {
    "name": "ipython",
    "version": 3
   },
   "file_extension": ".py",
   "mimetype": "text/x-python",
   "name": "python",
   "nbconvert_exporter": "python",
   "pygments_lexer": "ipython3",
   "version": "3.10.6"
  }
 },
 "nbformat": 4,
 "nbformat_minor": 5
}
